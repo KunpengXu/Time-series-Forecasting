{
  "nbformat": 4,
  "nbformat_minor": 0,
  "metadata": {
    "colab": {
      "name": "BigMartSalesPrediction.ipynb",
      "provenance": [],
      "mount_file_id": "11_aGniDPu5PV9C6m47YJESaBsN6fXaND",
      "authorship_tag": "ABX9TyNJAxVof4OB8rYK2us0KHXb",
      "include_colab_link": true
    },
    "kernelspec": {
      "name": "python3",
      "display_name": "Python 3"
    },
    "language_info": {
      "name": "python"
    },
    "accelerator": "GPU"
  },
  "cells": [
    {
      "cell_type": "markdown",
      "metadata": {
        "id": "view-in-github",
        "colab_type": "text"
      },
      "source": [
        "<a href=\"https://colab.research.google.com/github/KunpengXu/Time-series-Forecasting/blob/main/BigMartSalesPrediction.ipynb\" target=\"_parent\"><img src=\"https://colab.research.google.com/assets/colab-badge.svg\" alt=\"Open In Colab\"/></a>"
      ]
    },
    {
      "cell_type": "code",
      "metadata": {
        "id": "0CemEVJXlA6x"
      },
      "source": [
        "import pandas as pd\n",
        "data=pd.read_csv('train_XnW6LSF.csv')\n",
        "data_test=pd.read_csv('test_FewQE9B.csv')"
      ],
      "execution_count": null,
      "outputs": []
    },
    {
      "cell_type": "code",
      "metadata": {
        "colab": {
          "base_uri": "https://localhost:8080/",
          "height": 301
        },
        "id": "h8wNKfzsleQz",
        "outputId": "df1ddad8-5463-4be5-af00-9192e2a9ef94"
      },
      "source": [
        "data.head()"
      ],
      "execution_count": null,
      "outputs": [
        {
          "output_type": "execute_result",
          "data": {
            "text/html": [
              "<div>\n",
              "<style scoped>\n",
              "    .dataframe tbody tr th:only-of-type {\n",
              "        vertical-align: middle;\n",
              "    }\n",
              "\n",
              "    .dataframe tbody tr th {\n",
              "        vertical-align: top;\n",
              "    }\n",
              "\n",
              "    .dataframe thead th {\n",
              "        text-align: right;\n",
              "    }\n",
              "</style>\n",
              "<table border=\"1\" class=\"dataframe\">\n",
              "  <thead>\n",
              "    <tr style=\"text-align: right;\">\n",
              "      <th></th>\n",
              "      <th>Item_Identifier</th>\n",
              "      <th>Item_Weight</th>\n",
              "      <th>Item_Fat_Content</th>\n",
              "      <th>Item_Visibility</th>\n",
              "      <th>Item_Type</th>\n",
              "      <th>Item_MRP</th>\n",
              "      <th>Outlet_Identifier</th>\n",
              "      <th>Outlet_Establishment_Year</th>\n",
              "      <th>Outlet_Size</th>\n",
              "      <th>Outlet_Location_Type</th>\n",
              "      <th>Outlet_Type</th>\n",
              "      <th>Item_Outlet_Sales</th>\n",
              "    </tr>\n",
              "  </thead>\n",
              "  <tbody>\n",
              "    <tr>\n",
              "      <th>0</th>\n",
              "      <td>FDA15</td>\n",
              "      <td>9.30</td>\n",
              "      <td>Low Fat</td>\n",
              "      <td>0.016047</td>\n",
              "      <td>Dairy</td>\n",
              "      <td>249.8092</td>\n",
              "      <td>OUT049</td>\n",
              "      <td>1999</td>\n",
              "      <td>Medium</td>\n",
              "      <td>Tier 1</td>\n",
              "      <td>Supermarket Type1</td>\n",
              "      <td>3735.1380</td>\n",
              "    </tr>\n",
              "    <tr>\n",
              "      <th>1</th>\n",
              "      <td>DRC01</td>\n",
              "      <td>5.92</td>\n",
              "      <td>Regular</td>\n",
              "      <td>0.019278</td>\n",
              "      <td>Soft Drinks</td>\n",
              "      <td>48.2692</td>\n",
              "      <td>OUT018</td>\n",
              "      <td>2009</td>\n",
              "      <td>Medium</td>\n",
              "      <td>Tier 3</td>\n",
              "      <td>Supermarket Type2</td>\n",
              "      <td>443.4228</td>\n",
              "    </tr>\n",
              "    <tr>\n",
              "      <th>2</th>\n",
              "      <td>FDN15</td>\n",
              "      <td>17.50</td>\n",
              "      <td>Low Fat</td>\n",
              "      <td>0.016760</td>\n",
              "      <td>Meat</td>\n",
              "      <td>141.6180</td>\n",
              "      <td>OUT049</td>\n",
              "      <td>1999</td>\n",
              "      <td>Medium</td>\n",
              "      <td>Tier 1</td>\n",
              "      <td>Supermarket Type1</td>\n",
              "      <td>2097.2700</td>\n",
              "    </tr>\n",
              "    <tr>\n",
              "      <th>3</th>\n",
              "      <td>FDX07</td>\n",
              "      <td>19.20</td>\n",
              "      <td>Regular</td>\n",
              "      <td>0.000000</td>\n",
              "      <td>Fruits and Vegetables</td>\n",
              "      <td>182.0950</td>\n",
              "      <td>OUT010</td>\n",
              "      <td>1998</td>\n",
              "      <td>NaN</td>\n",
              "      <td>Tier 3</td>\n",
              "      <td>Grocery Store</td>\n",
              "      <td>732.3800</td>\n",
              "    </tr>\n",
              "    <tr>\n",
              "      <th>4</th>\n",
              "      <td>NCD19</td>\n",
              "      <td>8.93</td>\n",
              "      <td>Low Fat</td>\n",
              "      <td>0.000000</td>\n",
              "      <td>Household</td>\n",
              "      <td>53.8614</td>\n",
              "      <td>OUT013</td>\n",
              "      <td>1987</td>\n",
              "      <td>High</td>\n",
              "      <td>Tier 3</td>\n",
              "      <td>Supermarket Type1</td>\n",
              "      <td>994.7052</td>\n",
              "    </tr>\n",
              "  </tbody>\n",
              "</table>\n",
              "</div>"
            ],
            "text/plain": [
              "  Item_Identifier  Item_Weight  ...        Outlet_Type  Item_Outlet_Sales\n",
              "0           FDA15         9.30  ...  Supermarket Type1          3735.1380\n",
              "1           DRC01         5.92  ...  Supermarket Type2           443.4228\n",
              "2           FDN15        17.50  ...  Supermarket Type1          2097.2700\n",
              "3           FDX07        19.20  ...      Grocery Store           732.3800\n",
              "4           NCD19         8.93  ...  Supermarket Type1           994.7052\n",
              "\n",
              "[5 rows x 12 columns]"
            ]
          },
          "metadata": {
            "tags": []
          },
          "execution_count": 4
        }
      ]
    },
    {
      "cell_type": "code",
      "metadata": {
        "colab": {
          "base_uri": "https://localhost:8080/"
        },
        "id": "s2b2FZMwliEN",
        "outputId": "5f256264-0219-4028-f890-fbcc1d47131b"
      },
      "source": [
        "data.shape"
      ],
      "execution_count": null,
      "outputs": [
        {
          "output_type": "execute_result",
          "data": {
            "text/plain": [
              "(8523, 12)"
            ]
          },
          "metadata": {
            "tags": []
          },
          "execution_count": 5
        }
      ]
    },
    {
      "cell_type": "code",
      "metadata": {
        "colab": {
          "base_uri": "https://localhost:8080/"
        },
        "id": "hTTxAXfflnzI",
        "outputId": "6e24e09f-718c-4e8d-d48a-7ac528822ab1"
      },
      "source": [
        "data_test.isnull().sum()"
      ],
      "execution_count": null,
      "outputs": [
        {
          "output_type": "execute_result",
          "data": {
            "text/plain": [
              "Item_Identifier                 0\n",
              "Item_Weight                   976\n",
              "Item_Fat_Content                0\n",
              "Item_Visibility                 0\n",
              "Item_Type                       0\n",
              "Item_MRP                        0\n",
              "Outlet_Identifier               0\n",
              "Outlet_Establishment_Year       0\n",
              "Outlet_Size                  1606\n",
              "Outlet_Location_Type            0\n",
              "Outlet_Type                     0\n",
              "dtype: int64"
            ]
          },
          "metadata": {
            "tags": []
          },
          "execution_count": 6
        }
      ]
    },
    {
      "cell_type": "code",
      "metadata": {
        "colab": {
          "base_uri": "https://localhost:8080/"
        },
        "id": "3d5YWhU8lymQ",
        "outputId": "122842a9-3ad7-41e4-d77a-794b18a78f1f"
      },
      "source": [
        "data.dtypes"
      ],
      "execution_count": null,
      "outputs": [
        {
          "output_type": "execute_result",
          "data": {
            "text/plain": [
              "Item_Identifier               object\n",
              "Item_Weight                  float64\n",
              "Item_Fat_Content              object\n",
              "Item_Visibility              float64\n",
              "Item_Type                     object\n",
              "Item_MRP                     float64\n",
              "Outlet_Identifier             object\n",
              "Outlet_Establishment_Year      int64\n",
              "Outlet_Size                   object\n",
              "Outlet_Location_Type          object\n",
              "Outlet_Type                   object\n",
              "Item_Outlet_Sales            float64\n",
              "dtype: object"
            ]
          },
          "metadata": {
            "tags": []
          },
          "execution_count": 7
        }
      ]
    },
    {
      "cell_type": "code",
      "metadata": {
        "id": "CrgmDm9Aya6S"
      },
      "source": [
        "submission=[]\n",
        "submission=pd.DataFrame(data_test.Item_Identifier, columns=['Item_Identifier'])\n",
        "submission['Outlet_Identifier']=data_test.Outlet_Identifier"
      ],
      "execution_count": null,
      "outputs": []
    },
    {
      "cell_type": "code",
      "metadata": {
        "id": "VpyNaCNtl3FU"
      },
      "source": [
        "data['Outlet_Size'].fillna(data['Outlet_Size'].mode()[0], inplace=True)\n",
        "data_test['Outlet_Size'].fillna(data_test['Outlet_Size'].mode()[0], inplace=True)"
      ],
      "execution_count": null,
      "outputs": []
    },
    {
      "cell_type": "code",
      "metadata": {
        "id": "LI3fEGCzmVD-"
      },
      "source": [
        "data['Item_Weight'].fillna(data['Item_Weight'].mean(), inplace=True)\n",
        "data_test['Item_Weight'].fillna(data_test['Item_Weight'].mean(), inplace=True)"
      ],
      "execution_count": null,
      "outputs": []
    },
    {
      "cell_type": "code",
      "metadata": {
        "colab": {
          "base_uri": "https://localhost:8080/"
        },
        "id": "Q4x-TpunnD3t",
        "outputId": "2f4a6282-3837-403a-b508-988c589304b1"
      },
      "source": [
        "import numpy as np\n",
        "np.unique(data.Outlet_Establishment_Year)"
      ],
      "execution_count": null,
      "outputs": [
        {
          "output_type": "execute_result",
          "data": {
            "text/plain": [
              "array([1985, 1987, 1997, 1998, 1999, 2002, 2004, 2007, 2009])"
            ]
          },
          "metadata": {
            "tags": []
          },
          "execution_count": 11
        }
      ]
    },
    {
      "cell_type": "code",
      "metadata": {
        "id": "HoWtTmvNmi55"
      },
      "source": [
        "#method 1\n",
        "#method 2\n",
        "data['Item_Fat_Content']=data['Item_Fat_Content'].map({'LF':0, 'Low Fat':0, 'low fat':0, 'Regular':1,'reg':1})\n",
        "size_mapping={}\n",
        "for i in range(np.unique(data.Item_Type).size):\n",
        "  size_mapping[np.unique(data.Item_Type)[i]]=i\n",
        "data['Item_Type']=data['Item_Type'].map(size_mapping)"
      ],
      "execution_count": null,
      "outputs": []
    },
    {
      "cell_type": "code",
      "metadata": {
        "id": "_WP04Jatr0cH"
      },
      "source": [
        "#method 3\n",
        "from sklearn import preprocessing\n",
        "label_encoder=preprocessing.LabelEncoder()\n",
        "data['Outlet_Identifier']=label_encoder.fit_transform(data['Outlet_Identifier'])\n",
        "data['Outlet_Establishment_Year']=label_encoder.fit_transform(data['Outlet_Establishment_Year'])\n",
        "data['Outlet_Size']=label_encoder.fit_transform(data['Outlet_Size'])\n",
        "data['Outlet_Location_Type']=label_encoder.fit_transform(data['Outlet_Location_Type'])\n",
        "data['Outlet_Type']=label_encoder.fit_transform(data['Outlet_Type'])\n",
        "\n",
        "data_test['Item_Fat_Content']=label_encoder.fit_transform(data_test['Item_Fat_Content'])\n",
        "data_test['Item_Type']=label_encoder.fit_transform(data_test['Item_Type'])\n",
        "data_test['Outlet_Identifier']=label_encoder.fit_transform(data_test['Outlet_Identifier'])\n",
        "data_test['Outlet_Establishment_Year']=label_encoder.fit_transform(data_test['Outlet_Establishment_Year'])\n",
        "data_test['Outlet_Size']=label_encoder.fit_transform(data_test['Outlet_Size'])\n",
        "data_test['Outlet_Location_Type']=label_encoder.fit_transform(data_test['Outlet_Location_Type'])\n",
        "data_test['Outlet_Type']=label_encoder.fit_transform(data_test['Outlet_Type'])"
      ],
      "execution_count": null,
      "outputs": []
    },
    {
      "cell_type": "code",
      "metadata": {
        "colab": {
          "base_uri": "https://localhost:8080/",
          "height": 217
        },
        "id": "cKNSnfmeuWUk",
        "outputId": "e6cdc5b8-c892-40b3-c16a-a56355bf3c9b"
      },
      "source": [
        "data_test.head()"
      ],
      "execution_count": null,
      "outputs": [
        {
          "output_type": "execute_result",
          "data": {
            "text/html": [
              "<div>\n",
              "<style scoped>\n",
              "    .dataframe tbody tr th:only-of-type {\n",
              "        vertical-align: middle;\n",
              "    }\n",
              "\n",
              "    .dataframe tbody tr th {\n",
              "        vertical-align: top;\n",
              "    }\n",
              "\n",
              "    .dataframe thead th {\n",
              "        text-align: right;\n",
              "    }\n",
              "</style>\n",
              "<table border=\"1\" class=\"dataframe\">\n",
              "  <thead>\n",
              "    <tr style=\"text-align: right;\">\n",
              "      <th></th>\n",
              "      <th>Item_Identifier</th>\n",
              "      <th>Item_Weight</th>\n",
              "      <th>Item_Fat_Content</th>\n",
              "      <th>Item_Visibility</th>\n",
              "      <th>Item_Type</th>\n",
              "      <th>Item_MRP</th>\n",
              "      <th>Outlet_Identifier</th>\n",
              "      <th>Outlet_Establishment_Year</th>\n",
              "      <th>Outlet_Size</th>\n",
              "      <th>Outlet_Location_Type</th>\n",
              "      <th>Outlet_Type</th>\n",
              "    </tr>\n",
              "  </thead>\n",
              "  <tbody>\n",
              "    <tr>\n",
              "      <th>0</th>\n",
              "      <td>FDW58</td>\n",
              "      <td>20.750000</td>\n",
              "      <td>1</td>\n",
              "      <td>0.007565</td>\n",
              "      <td>13</td>\n",
              "      <td>107.8622</td>\n",
              "      <td>9</td>\n",
              "      <td>4</td>\n",
              "      <td>1</td>\n",
              "      <td>0</td>\n",
              "      <td>1</td>\n",
              "    </tr>\n",
              "    <tr>\n",
              "      <th>1</th>\n",
              "      <td>FDW14</td>\n",
              "      <td>8.300000</td>\n",
              "      <td>4</td>\n",
              "      <td>0.038428</td>\n",
              "      <td>4</td>\n",
              "      <td>87.3198</td>\n",
              "      <td>2</td>\n",
              "      <td>7</td>\n",
              "      <td>1</td>\n",
              "      <td>1</td>\n",
              "      <td>1</td>\n",
              "    </tr>\n",
              "    <tr>\n",
              "      <th>2</th>\n",
              "      <td>NCN55</td>\n",
              "      <td>14.600000</td>\n",
              "      <td>1</td>\n",
              "      <td>0.099575</td>\n",
              "      <td>11</td>\n",
              "      <td>241.7538</td>\n",
              "      <td>0</td>\n",
              "      <td>3</td>\n",
              "      <td>1</td>\n",
              "      <td>2</td>\n",
              "      <td>0</td>\n",
              "    </tr>\n",
              "    <tr>\n",
              "      <th>3</th>\n",
              "      <td>FDQ58</td>\n",
              "      <td>7.315000</td>\n",
              "      <td>1</td>\n",
              "      <td>0.015388</td>\n",
              "      <td>13</td>\n",
              "      <td>155.0340</td>\n",
              "      <td>2</td>\n",
              "      <td>7</td>\n",
              "      <td>1</td>\n",
              "      <td>1</td>\n",
              "      <td>1</td>\n",
              "    </tr>\n",
              "    <tr>\n",
              "      <th>4</th>\n",
              "      <td>FDY38</td>\n",
              "      <td>12.695633</td>\n",
              "      <td>2</td>\n",
              "      <td>0.118599</td>\n",
              "      <td>4</td>\n",
              "      <td>234.2300</td>\n",
              "      <td>5</td>\n",
              "      <td>0</td>\n",
              "      <td>1</td>\n",
              "      <td>2</td>\n",
              "      <td>3</td>\n",
              "    </tr>\n",
              "  </tbody>\n",
              "</table>\n",
              "</div>"
            ],
            "text/plain": [
              "  Item_Identifier  Item_Weight  ...  Outlet_Location_Type  Outlet_Type\n",
              "0           FDW58    20.750000  ...                     0            1\n",
              "1           FDW14     8.300000  ...                     1            1\n",
              "2           NCN55    14.600000  ...                     2            0\n",
              "3           FDQ58     7.315000  ...                     1            1\n",
              "4           FDY38    12.695633  ...                     2            3\n",
              "\n",
              "[5 rows x 11 columns]"
            ]
          },
          "metadata": {
            "tags": []
          },
          "execution_count": 14
        }
      ]
    },
    {
      "cell_type": "code",
      "metadata": {
        "id": "ZT7wWLsUuYKd"
      },
      "source": [
        "for i in data.columns[1:-1]:\n",
        "  data[i]=(data[i]-data[i].min())/(data[i].max()-data[i].min())\n",
        "for i in data_test.columns[1:-1]:\n",
        "  data_test[i]=(data_test[i]-data_test[i].min())/(data_test[i].max()-data_test[i].min())"
      ],
      "execution_count": null,
      "outputs": []
    },
    {
      "cell_type": "code",
      "metadata": {
        "colab": {
          "base_uri": "https://localhost:8080/",
          "height": 217
        },
        "id": "-AxGYgXHx99D",
        "outputId": "e5824846-9fdd-4843-db66-c377ab1c280d"
      },
      "source": [
        "data.head()"
      ],
      "execution_count": null,
      "outputs": [
        {
          "output_type": "execute_result",
          "data": {
            "text/html": [
              "<div>\n",
              "<style scoped>\n",
              "    .dataframe tbody tr th:only-of-type {\n",
              "        vertical-align: middle;\n",
              "    }\n",
              "\n",
              "    .dataframe tbody tr th {\n",
              "        vertical-align: top;\n",
              "    }\n",
              "\n",
              "    .dataframe thead th {\n",
              "        text-align: right;\n",
              "    }\n",
              "</style>\n",
              "<table border=\"1\" class=\"dataframe\">\n",
              "  <thead>\n",
              "    <tr style=\"text-align: right;\">\n",
              "      <th></th>\n",
              "      <th>Item_Identifier</th>\n",
              "      <th>Item_Weight</th>\n",
              "      <th>Item_Fat_Content</th>\n",
              "      <th>Item_Visibility</th>\n",
              "      <th>Item_Type</th>\n",
              "      <th>Item_MRP</th>\n",
              "      <th>Outlet_Identifier</th>\n",
              "      <th>Outlet_Establishment_Year</th>\n",
              "      <th>Outlet_Size</th>\n",
              "      <th>Outlet_Location_Type</th>\n",
              "      <th>Outlet_Type</th>\n",
              "      <th>Item_Outlet_Sales</th>\n",
              "    </tr>\n",
              "  </thead>\n",
              "  <tbody>\n",
              "    <tr>\n",
              "      <th>0</th>\n",
              "      <td>FDA15</td>\n",
              "      <td>0.282525</td>\n",
              "      <td>0.0</td>\n",
              "      <td>0.048866</td>\n",
              "      <td>0.266667</td>\n",
              "      <td>0.927507</td>\n",
              "      <td>1.000000</td>\n",
              "      <td>0.500</td>\n",
              "      <td>0.5</td>\n",
              "      <td>0.0</td>\n",
              "      <td>0.333333</td>\n",
              "      <td>3735.1380</td>\n",
              "    </tr>\n",
              "    <tr>\n",
              "      <th>1</th>\n",
              "      <td>DRC01</td>\n",
              "      <td>0.081274</td>\n",
              "      <td>1.0</td>\n",
              "      <td>0.058705</td>\n",
              "      <td>0.933333</td>\n",
              "      <td>0.072068</td>\n",
              "      <td>0.333333</td>\n",
              "      <td>1.000</td>\n",
              "      <td>0.5</td>\n",
              "      <td>1.0</td>\n",
              "      <td>0.666667</td>\n",
              "      <td>443.4228</td>\n",
              "    </tr>\n",
              "    <tr>\n",
              "      <th>2</th>\n",
              "      <td>FDN15</td>\n",
              "      <td>0.770765</td>\n",
              "      <td>0.0</td>\n",
              "      <td>0.051037</td>\n",
              "      <td>0.666667</td>\n",
              "      <td>0.468288</td>\n",
              "      <td>1.000000</td>\n",
              "      <td>0.500</td>\n",
              "      <td>0.5</td>\n",
              "      <td>0.0</td>\n",
              "      <td>0.333333</td>\n",
              "      <td>2097.2700</td>\n",
              "    </tr>\n",
              "    <tr>\n",
              "      <th>3</th>\n",
              "      <td>FDX07</td>\n",
              "      <td>0.871986</td>\n",
              "      <td>1.0</td>\n",
              "      <td>0.000000</td>\n",
              "      <td>0.400000</td>\n",
              "      <td>0.640093</td>\n",
              "      <td>0.000000</td>\n",
              "      <td>0.375</td>\n",
              "      <td>0.5</td>\n",
              "      <td>1.0</td>\n",
              "      <td>0.000000</td>\n",
              "      <td>732.3800</td>\n",
              "    </tr>\n",
              "    <tr>\n",
              "      <th>4</th>\n",
              "      <td>NCD19</td>\n",
              "      <td>0.260494</td>\n",
              "      <td>0.0</td>\n",
              "      <td>0.000000</td>\n",
              "      <td>0.600000</td>\n",
              "      <td>0.095805</td>\n",
              "      <td>0.111111</td>\n",
              "      <td>0.125</td>\n",
              "      <td>0.0</td>\n",
              "      <td>1.0</td>\n",
              "      <td>0.333333</td>\n",
              "      <td>994.7052</td>\n",
              "    </tr>\n",
              "  </tbody>\n",
              "</table>\n",
              "</div>"
            ],
            "text/plain": [
              "  Item_Identifier  Item_Weight  ...  Outlet_Type  Item_Outlet_Sales\n",
              "0           FDA15     0.282525  ...     0.333333          3735.1380\n",
              "1           DRC01     0.081274  ...     0.666667           443.4228\n",
              "2           FDN15     0.770765  ...     0.333333          2097.2700\n",
              "3           FDX07     0.871986  ...     0.000000           732.3800\n",
              "4           NCD19     0.260494  ...     0.333333           994.7052\n",
              "\n",
              "[5 rows x 12 columns]"
            ]
          },
          "metadata": {
            "tags": []
          },
          "execution_count": 16
        }
      ]
    },
    {
      "cell_type": "code",
      "metadata": {
        "id": "7Sog_okayAH6"
      },
      "source": [
        "import pandas as pd\n",
        "import numpy as np\n",
        "import sklearn\n",
        "from sklearn.model_selection import train_test_split\n",
        "from sklearn.metrics import accuracy_score\n",
        "import matplotlib.pyplot as plt\n",
        "%matplotlib inline"
      ],
      "execution_count": null,
      "outputs": []
    },
    {
      "cell_type": "code",
      "metadata": {
        "colab": {
          "base_uri": "https://localhost:8080/"
        },
        "id": "YQnAhzszycTj",
        "outputId": "6acdb1a1-5335-4919-fe03-aee3a38980d5"
      },
      "source": [
        "data.dtypes"
      ],
      "execution_count": null,
      "outputs": [
        {
          "output_type": "execute_result",
          "data": {
            "text/plain": [
              "Item_Identifier               object\n",
              "Item_Weight                  float64\n",
              "Item_Fat_Content             float64\n",
              "Item_Visibility              float64\n",
              "Item_Type                    float64\n",
              "Item_MRP                     float64\n",
              "Outlet_Identifier            float64\n",
              "Outlet_Establishment_Year    float64\n",
              "Outlet_Size                  float64\n",
              "Outlet_Location_Type         float64\n",
              "Outlet_Type                  float64\n",
              "Item_Outlet_Sales            float64\n",
              "dtype: object"
            ]
          },
          "metadata": {
            "tags": []
          },
          "execution_count": 18
        }
      ]
    },
    {
      "cell_type": "code",
      "metadata": {
        "id": "Xzv3Ko-Cy2Hb"
      },
      "source": [
        "data = data.drop('Item_Identifier', axis=1)\n",
        "data_test = data_test.drop('Item_Identifier', axis=1)"
      ],
      "execution_count": null,
      "outputs": []
    },
    {
      "cell_type": "code",
      "metadata": {
        "id": "rgRs3Yp7zDXX"
      },
      "source": [
        "X=data.drop('Item_Outlet_Sales', axis=1)\n",
        "y=data['Item_Outlet_Sales']\n",
        "\n",
        "X_train,X_test,y_train,y_test = train_test_split(X,y,random_state=10,test_size=0.2)"
      ],
      "execution_count": null,
      "outputs": []
    },
    {
      "cell_type": "code",
      "metadata": {
        "colab": {
          "base_uri": "https://localhost:8080/"
        },
        "id": "dbH31qt56eNX",
        "outputId": "7aa741b5-1779-4753-9787-7641e9349eef"
      },
      "source": [
        "(X_train.shape, y_train.shape), (X_test.shape, y_test.shape)"
      ],
      "execution_count": null,
      "outputs": [
        {
          "output_type": "execute_result",
          "data": {
            "text/plain": [
              "(((6818, 10), (6818,)), ((1705, 10), (1705,)))"
            ]
          },
          "metadata": {
            "tags": []
          },
          "execution_count": 21
        }
      ]
    },
    {
      "cell_type": "code",
      "metadata": {
        "id": "PGOCOO8i6em3"
      },
      "source": [
        "import keras\n",
        "import tensorflow as tf\n",
        "from keras.models import Sequential\n",
        "from keras.layers import InputLayer, Dense "
      ],
      "execution_count": null,
      "outputs": []
    },
    {
      "cell_type": "code",
      "metadata": {
        "colab": {
          "base_uri": "https://localhost:8080/"
        },
        "id": "ppiAT-7889tU",
        "outputId": "d4529de4-16a6-4e27-c60a-f3da33a9bc3b"
      },
      "source": [
        "X_train.shape[1]"
      ],
      "execution_count": null,
      "outputs": [
        {
          "output_type": "execute_result",
          "data": {
            "text/plain": [
              "10"
            ]
          },
          "metadata": {
            "tags": []
          },
          "execution_count": 23
        }
      ]
    },
    {
      "cell_type": "code",
      "metadata": {
        "colab": {
          "base_uri": "https://localhost:8080/",
          "height": 427
        },
        "id": "LmDnB5RKEK2x",
        "outputId": "c194a7fc-2eff-4ecd-9ec2-de64dac6d3ec"
      },
      "source": [
        "X_train"
      ],
      "execution_count": null,
      "outputs": [
        {
          "output_type": "execute_result",
          "data": {
            "text/html": [
              "<div>\n",
              "<style scoped>\n",
              "    .dataframe tbody tr th:only-of-type {\n",
              "        vertical-align: middle;\n",
              "    }\n",
              "\n",
              "    .dataframe tbody tr th {\n",
              "        vertical-align: top;\n",
              "    }\n",
              "\n",
              "    .dataframe thead th {\n",
              "        text-align: right;\n",
              "    }\n",
              "</style>\n",
              "<table border=\"1\" class=\"dataframe\">\n",
              "  <thead>\n",
              "    <tr style=\"text-align: right;\">\n",
              "      <th></th>\n",
              "      <th>Item_Weight</th>\n",
              "      <th>Item_Fat_Content</th>\n",
              "      <th>Item_Visibility</th>\n",
              "      <th>Item_Type</th>\n",
              "      <th>Item_MRP</th>\n",
              "      <th>Outlet_Identifier</th>\n",
              "      <th>Outlet_Establishment_Year</th>\n",
              "      <th>Outlet_Size</th>\n",
              "      <th>Outlet_Location_Type</th>\n",
              "      <th>Outlet_Type</th>\n",
              "    </tr>\n",
              "  </thead>\n",
              "  <tbody>\n",
              "    <tr>\n",
              "      <th>5470</th>\n",
              "      <td>0.681453</td>\n",
              "      <td>1.0</td>\n",
              "      <td>0.198936</td>\n",
              "      <td>0.266667</td>\n",
              "      <td>0.200377</td>\n",
              "      <td>0.333333</td>\n",
              "      <td>1.000</td>\n",
              "      <td>0.5</td>\n",
              "      <td>1.0</td>\n",
              "      <td>0.666667</td>\n",
              "    </tr>\n",
              "    <tr>\n",
              "      <th>8431</th>\n",
              "      <td>0.901756</td>\n",
              "      <td>0.0</td>\n",
              "      <td>0.162400</td>\n",
              "      <td>0.400000</td>\n",
              "      <td>0.108248</td>\n",
              "      <td>0.777778</td>\n",
              "      <td>0.625</td>\n",
              "      <td>0.5</td>\n",
              "      <td>0.5</td>\n",
              "      <td>0.333333</td>\n",
              "    </tr>\n",
              "    <tr>\n",
              "      <th>3557</th>\n",
              "      <td>0.184579</td>\n",
              "      <td>0.0</td>\n",
              "      <td>0.097474</td>\n",
              "      <td>0.200000</td>\n",
              "      <td>0.364855</td>\n",
              "      <td>0.777778</td>\n",
              "      <td>0.625</td>\n",
              "      <td>0.5</td>\n",
              "      <td>0.5</td>\n",
              "      <td>0.333333</td>\n",
              "    </tr>\n",
              "    <tr>\n",
              "      <th>7918</th>\n",
              "      <td>0.633820</td>\n",
              "      <td>0.0</td>\n",
              "      <td>0.102473</td>\n",
              "      <td>0.600000</td>\n",
              "      <td>0.329804</td>\n",
              "      <td>1.000000</td>\n",
              "      <td>0.500</td>\n",
              "      <td>0.5</td>\n",
              "      <td>0.0</td>\n",
              "      <td>0.333333</td>\n",
              "    </tr>\n",
              "    <tr>\n",
              "      <th>4573</th>\n",
              "      <td>0.461149</td>\n",
              "      <td>1.0</td>\n",
              "      <td>0.176941</td>\n",
              "      <td>0.866667</td>\n",
              "      <td>0.123796</td>\n",
              "      <td>0.666667</td>\n",
              "      <td>0.750</td>\n",
              "      <td>1.0</td>\n",
              "      <td>0.5</td>\n",
              "      <td>0.333333</td>\n",
              "    </tr>\n",
              "    <tr>\n",
              "      <th>...</th>\n",
              "      <td>...</td>\n",
              "      <td>...</td>\n",
              "      <td>...</td>\n",
              "      <td>...</td>\n",
              "      <td>...</td>\n",
              "      <td>...</td>\n",
              "      <td>...</td>\n",
              "      <td>...</td>\n",
              "      <td>...</td>\n",
              "      <td>...</td>\n",
              "    </tr>\n",
              "    <tr>\n",
              "      <th>4829</th>\n",
              "      <td>0.494352</td>\n",
              "      <td>0.0</td>\n",
              "      <td>0.109210</td>\n",
              "      <td>0.666667</td>\n",
              "      <td>0.114883</td>\n",
              "      <td>0.555556</td>\n",
              "      <td>0.000</td>\n",
              "      <td>0.5</td>\n",
              "      <td>1.0</td>\n",
              "      <td>1.000000</td>\n",
              "    </tr>\n",
              "    <tr>\n",
              "      <th>7291</th>\n",
              "      <td>0.176541</td>\n",
              "      <td>1.0</td>\n",
              "      <td>0.134057</td>\n",
              "      <td>0.000000</td>\n",
              "      <td>0.644338</td>\n",
              "      <td>0.888889</td>\n",
              "      <td>0.250</td>\n",
              "      <td>1.0</td>\n",
              "      <td>0.0</td>\n",
              "      <td>0.333333</td>\n",
              "    </tr>\n",
              "    <tr>\n",
              "      <th>1344</th>\n",
              "      <td>0.493897</td>\n",
              "      <td>0.0</td>\n",
              "      <td>0.101017</td>\n",
              "      <td>0.866667</td>\n",
              "      <td>0.597424</td>\n",
              "      <td>0.666667</td>\n",
              "      <td>0.750</td>\n",
              "      <td>1.0</td>\n",
              "      <td>0.5</td>\n",
              "      <td>0.333333</td>\n",
              "    </tr>\n",
              "    <tr>\n",
              "      <th>7293</th>\n",
              "      <td>0.550461</td>\n",
              "      <td>1.0</td>\n",
              "      <td>0.075094</td>\n",
              "      <td>0.200000</td>\n",
              "      <td>0.238233</td>\n",
              "      <td>0.000000</td>\n",
              "      <td>0.375</td>\n",
              "      <td>0.5</td>\n",
              "      <td>1.0</td>\n",
              "      <td>0.000000</td>\n",
              "    </tr>\n",
              "    <tr>\n",
              "      <th>1289</th>\n",
              "      <td>0.702292</td>\n",
              "      <td>0.0</td>\n",
              "      <td>0.040766</td>\n",
              "      <td>0.733333</td>\n",
              "      <td>0.315528</td>\n",
              "      <td>1.000000</td>\n",
              "      <td>0.500</td>\n",
              "      <td>0.5</td>\n",
              "      <td>0.0</td>\n",
              "      <td>0.333333</td>\n",
              "    </tr>\n",
              "  </tbody>\n",
              "</table>\n",
              "<p>6818 rows × 10 columns</p>\n",
              "</div>"
            ],
            "text/plain": [
              "      Item_Weight  Item_Fat_Content  ...  Outlet_Location_Type  Outlet_Type\n",
              "5470     0.681453               1.0  ...                   1.0     0.666667\n",
              "8431     0.901756               0.0  ...                   0.5     0.333333\n",
              "3557     0.184579               0.0  ...                   0.5     0.333333\n",
              "7918     0.633820               0.0  ...                   0.0     0.333333\n",
              "4573     0.461149               1.0  ...                   0.5     0.333333\n",
              "...           ...               ...  ...                   ...          ...\n",
              "4829     0.494352               0.0  ...                   1.0     1.000000\n",
              "7291     0.176541               1.0  ...                   0.0     0.333333\n",
              "1344     0.493897               0.0  ...                   0.5     0.333333\n",
              "7293     0.550461               1.0  ...                   1.0     0.000000\n",
              "1289     0.702292               0.0  ...                   0.0     0.333333\n",
              "\n",
              "[6818 rows x 10 columns]"
            ]
          },
          "metadata": {
            "tags": []
          },
          "execution_count": 24
        }
      ]
    },
    {
      "cell_type": "code",
      "metadata": {
        "colab": {
          "base_uri": "https://localhost:8080/"
        },
        "id": "yx7kNrRs8_t_",
        "outputId": "34a17c8f-063a-429f-d37c-b7ed839d1b08"
      },
      "source": [
        "input_neurons=X_train.shape[1]\n",
        "output_neurons = 1\n",
        "number_of_hidden_layers=5\n",
        "\n",
        "neuron_hidden_layer={}\n",
        "for i in range(4):\n",
        "  neuron_hidden_layer[i]=20\n",
        "\n",
        "neuron_hidden_layer[4]=10\n",
        "'''neuron_hidden_layer_1=10\n",
        "neuron_hidden_layer_2=10\n",
        "neuron_hidden_layer_3=10\n",
        "neuron_hidden_layer_4=10\n",
        "neuron_hidden_layer_5=5'''\n",
        "model=Sequential()\n",
        "model.add(InputLayer(input_shape=(input_neurons,)))\n",
        "for i in range(5):\n",
        "  model.add(Dense(units=neuron_hidden_layer[i],activation='relu'))\n",
        "'''model.add(Dense(units=neuron_hidden_layer_1, activation='relu'))\n",
        "model.add(Dense(units=neuron_hidden_layer_2,activation='relu'))\n",
        "model.add(Dense(units=neuron_hidden_layer_3, activation='relu'))\n",
        "model.add(Dense(units=neuron_hidden_layer_4, activation='relu'))\n",
        "model.add(Dense(units=neuron_hidden_layer_5, activation='relu'))'''\n",
        "model.add(Dense(units=output_neurons,activation='linear'))\n",
        "\n",
        "model.summary()\n"
      ],
      "execution_count": null,
      "outputs": [
        {
          "output_type": "stream",
          "text": [
            "Model: \"sequential\"\n",
            "_________________________________________________________________\n",
            "Layer (type)                 Output Shape              Param #   \n",
            "=================================================================\n",
            "dense (Dense)                (None, 20)                220       \n",
            "_________________________________________________________________\n",
            "dense_1 (Dense)              (None, 20)                420       \n",
            "_________________________________________________________________\n",
            "dense_2 (Dense)              (None, 20)                420       \n",
            "_________________________________________________________________\n",
            "dense_3 (Dense)              (None, 20)                420       \n",
            "_________________________________________________________________\n",
            "dense_4 (Dense)              (None, 10)                210       \n",
            "_________________________________________________________________\n",
            "dense_5 (Dense)              (None, 1)                 11        \n",
            "=================================================================\n",
            "Total params: 1,701\n",
            "Trainable params: 1,701\n",
            "Non-trainable params: 0\n",
            "_________________________________________________________________\n"
          ],
          "name": "stdout"
        }
      ]
    },
    {
      "cell_type": "code",
      "metadata": {
        "id": "rpMbFgPBAXlx"
      },
      "source": [
        "model.compile(loss='MeanSquaredError', optimizer='Adam', metrics=['RootMeanSquaredError'])"
      ],
      "execution_count": null,
      "outputs": []
    },
    {
      "cell_type": "code",
      "metadata": {
        "id": "v5Eg3xkGZ0sV"
      },
      "source": [
        "import os\n",
        "checkpoint_path = \"/content/drive/MyDrive/Checkpoint-all/BigMartPredict/training_1/cp.ckpt\"\n",
        "checkpoint_dir = os.path.dirname(checkpoint_path)\n",
        "cp_callback = keras.callbacks.ModelCheckpoint(filepath=checkpoint_path,\n",
        "                                                 save_weights_only=True,\n",
        "                                                 verbose=1\n",
        "                                                 )\n"
      ],
      "execution_count": null,
      "outputs": []
    },
    {
      "cell_type": "code",
      "metadata": {
        "colab": {
          "base_uri": "https://localhost:8080/"
        },
        "id": "ONw18lWgDhyu",
        "outputId": "545255e2-b2f4-499c-b590-0bdac79e293e"
      },
      "source": [
        "model_history=model.fit(X_train,y_train, validation_data=(X_test, y_test), epochs=50, callbacks=[cp_callback])"
      ],
      "execution_count": null,
      "outputs": [
        {
          "output_type": "stream",
          "text": [
            "Epoch 1/50\n",
            "214/214 [==============================] - 3s 4ms/step - loss: 7340691.1256 - root_mean_squared_error: 2706.1357 - val_loss: 2647151.7500 - val_root_mean_squared_error: 1627.0070\n",
            "\n",
            "Epoch 00001: saving model to /content/drive/MyDrive/Checkpoint-all/BigMartPredict/training_1/cp.ckpt\n",
            "Epoch 2/50\n",
            "214/214 [==============================] - 1s 2ms/step - loss: 2468482.3547 - root_mean_squared_error: 1570.4161 - val_loss: 1946943.0000 - val_root_mean_squared_error: 1395.3290\n",
            "\n",
            "Epoch 00002: saving model to /content/drive/MyDrive/Checkpoint-all/BigMartPredict/training_1/cp.ckpt\n",
            "Epoch 3/50\n",
            "214/214 [==============================] - 1s 3ms/step - loss: 1741553.5122 - root_mean_squared_error: 1319.0843 - val_loss: 1439600.7500 - val_root_mean_squared_error: 1199.8336\n",
            "\n",
            "Epoch 00003: saving model to /content/drive/MyDrive/Checkpoint-all/BigMartPredict/training_1/cp.ckpt\n",
            "Epoch 4/50\n",
            "214/214 [==============================] - 1s 2ms/step - loss: 1465608.7134 - root_mean_squared_error: 1210.4169 - val_loss: 1405082.0000 - val_root_mean_squared_error: 1185.3616\n",
            "\n",
            "Epoch 00004: saving model to /content/drive/MyDrive/Checkpoint-all/BigMartPredict/training_1/cp.ckpt\n",
            "Epoch 5/50\n",
            "214/214 [==============================] - 1s 2ms/step - loss: 1415661.7645 - root_mean_squared_error: 1189.7398 - val_loss: 1409896.3750 - val_root_mean_squared_error: 1187.3906\n",
            "\n",
            "Epoch 00005: saving model to /content/drive/MyDrive/Checkpoint-all/BigMartPredict/training_1/cp.ckpt\n",
            "Epoch 6/50\n",
            "214/214 [==============================] - 1s 2ms/step - loss: 1351778.4791 - root_mean_squared_error: 1162.5399 - val_loss: 1363582.8750 - val_root_mean_squared_error: 1167.7255\n",
            "\n",
            "Epoch 00006: saving model to /content/drive/MyDrive/Checkpoint-all/BigMartPredict/training_1/cp.ckpt\n",
            "Epoch 7/50\n",
            "214/214 [==============================] - 1s 2ms/step - loss: 1414106.3657 - root_mean_squared_error: 1189.0398 - val_loss: 1351465.7500 - val_root_mean_squared_error: 1162.5256\n",
            "\n",
            "Epoch 00007: saving model to /content/drive/MyDrive/Checkpoint-all/BigMartPredict/training_1/cp.ckpt\n",
            "Epoch 8/50\n",
            "214/214 [==============================] - 1s 3ms/step - loss: 1407028.3424 - root_mean_squared_error: 1185.9379 - val_loss: 1340690.7500 - val_root_mean_squared_error: 1157.8820\n",
            "\n",
            "Epoch 00008: saving model to /content/drive/MyDrive/Checkpoint-all/BigMartPredict/training_1/cp.ckpt\n",
            "Epoch 9/50\n",
            "214/214 [==============================] - 1s 3ms/step - loss: 1401061.6767 - root_mean_squared_error: 1182.9321 - val_loss: 1329369.8750 - val_root_mean_squared_error: 1152.9830\n",
            "\n",
            "Epoch 00009: saving model to /content/drive/MyDrive/Checkpoint-all/BigMartPredict/training_1/cp.ckpt\n",
            "Epoch 10/50\n",
            "214/214 [==============================] - 1s 3ms/step - loss: 1367540.8570 - root_mean_squared_error: 1168.9627 - val_loss: 1314626.5000 - val_root_mean_squared_error: 1146.5717\n",
            "\n",
            "Epoch 00010: saving model to /content/drive/MyDrive/Checkpoint-all/BigMartPredict/training_1/cp.ckpt\n",
            "Epoch 11/50\n",
            "214/214 [==============================] - 1s 3ms/step - loss: 1304360.3616 - root_mean_squared_error: 1141.7761 - val_loss: 1314659.2500 - val_root_mean_squared_error: 1146.5859\n",
            "\n",
            "Epoch 00011: saving model to /content/drive/MyDrive/Checkpoint-all/BigMartPredict/training_1/cp.ckpt\n",
            "Epoch 12/50\n",
            "214/214 [==============================] - 1s 3ms/step - loss: 1311697.0797 - root_mean_squared_error: 1145.0900 - val_loss: 1292870.6250 - val_root_mean_squared_error: 1137.0447\n",
            "\n",
            "Epoch 00012: saving model to /content/drive/MyDrive/Checkpoint-all/BigMartPredict/training_1/cp.ckpt\n",
            "Epoch 13/50\n",
            "214/214 [==============================] - 1s 2ms/step - loss: 1349814.6701 - root_mean_squared_error: 1161.5588 - val_loss: 1280514.7500 - val_root_mean_squared_error: 1131.5983\n",
            "\n",
            "Epoch 00013: saving model to /content/drive/MyDrive/Checkpoint-all/BigMartPredict/training_1/cp.ckpt\n",
            "Epoch 14/50\n",
            "214/214 [==============================] - 1s 3ms/step - loss: 1356944.7663 - root_mean_squared_error: 1164.3325 - val_loss: 1282210.0000 - val_root_mean_squared_error: 1132.3472\n",
            "\n",
            "Epoch 00014: saving model to /content/drive/MyDrive/Checkpoint-all/BigMartPredict/training_1/cp.ckpt\n",
            "Epoch 15/50\n",
            "214/214 [==============================] - 1s 3ms/step - loss: 1270189.9256 - root_mean_squared_error: 1126.7798 - val_loss: 1270849.6250 - val_root_mean_squared_error: 1127.3197\n",
            "\n",
            "Epoch 00015: saving model to /content/drive/MyDrive/Checkpoint-all/BigMartPredict/training_1/cp.ckpt\n",
            "Epoch 16/50\n",
            "214/214 [==============================] - 1s 2ms/step - loss: 1295345.0645 - root_mean_squared_error: 1138.0734 - val_loss: 1261776.2500 - val_root_mean_squared_error: 1123.2881\n",
            "\n",
            "Epoch 00016: saving model to /content/drive/MyDrive/Checkpoint-all/BigMartPredict/training_1/cp.ckpt\n",
            "Epoch 17/50\n",
            "214/214 [==============================] - 1s 3ms/step - loss: 1289037.9227 - root_mean_squared_error: 1135.0582 - val_loss: 1256495.8750 - val_root_mean_squared_error: 1120.9353\n",
            "\n",
            "Epoch 00017: saving model to /content/drive/MyDrive/Checkpoint-all/BigMartPredict/training_1/cp.ckpt\n",
            "Epoch 18/50\n",
            "214/214 [==============================] - 1s 3ms/step - loss: 1284405.2436 - root_mean_squared_error: 1133.0745 - val_loss: 1242764.7500 - val_root_mean_squared_error: 1114.7936\n",
            "\n",
            "Epoch 00018: saving model to /content/drive/MyDrive/Checkpoint-all/BigMartPredict/training_1/cp.ckpt\n",
            "Epoch 19/50\n",
            "214/214 [==============================] - 1s 3ms/step - loss: 1272800.7605 - root_mean_squared_error: 1128.0012 - val_loss: 1225505.1250 - val_root_mean_squared_error: 1107.0254\n",
            "\n",
            "Epoch 00019: saving model to /content/drive/MyDrive/Checkpoint-all/BigMartPredict/training_1/cp.ckpt\n",
            "Epoch 20/50\n",
            "214/214 [==============================] - 1s 2ms/step - loss: 1267390.5506 - root_mean_squared_error: 1125.5667 - val_loss: 1212447.1250 - val_root_mean_squared_error: 1101.1118\n",
            "\n",
            "Epoch 00020: saving model to /content/drive/MyDrive/Checkpoint-all/BigMartPredict/training_1/cp.ckpt\n",
            "Epoch 21/50\n",
            "214/214 [==============================] - 1s 2ms/step - loss: 1268617.0349 - root_mean_squared_error: 1126.1960 - val_loss: 1206695.6250 - val_root_mean_squared_error: 1098.4969\n",
            "\n",
            "Epoch 00021: saving model to /content/drive/MyDrive/Checkpoint-all/BigMartPredict/training_1/cp.ckpt\n",
            "Epoch 22/50\n",
            "214/214 [==============================] - 1s 3ms/step - loss: 1324272.9337 - root_mean_squared_error: 1150.4409 - val_loss: 1202070.0000 - val_root_mean_squared_error: 1096.3895\n",
            "\n",
            "Epoch 00022: saving model to /content/drive/MyDrive/Checkpoint-all/BigMartPredict/training_1/cp.ckpt\n",
            "Epoch 23/50\n",
            "214/214 [==============================] - 1s 3ms/step - loss: 1259194.7250 - root_mean_squared_error: 1121.9686 - val_loss: 1203931.2500 - val_root_mean_squared_error: 1097.2380\n",
            "\n",
            "Epoch 00023: saving model to /content/drive/MyDrive/Checkpoint-all/BigMartPredict/training_1/cp.ckpt\n",
            "Epoch 24/50\n",
            "214/214 [==============================] - 1s 3ms/step - loss: 1279401.6366 - root_mean_squared_error: 1131.0085 - val_loss: 1200820.2500 - val_root_mean_squared_error: 1095.8195\n",
            "\n",
            "Epoch 00024: saving model to /content/drive/MyDrive/Checkpoint-all/BigMartPredict/training_1/cp.ckpt\n",
            "Epoch 25/50\n",
            "214/214 [==============================] - 1s 3ms/step - loss: 1299542.2471 - root_mean_squared_error: 1138.5477 - val_loss: 1193608.6250 - val_root_mean_squared_error: 1092.5239\n",
            "\n",
            "Epoch 00025: saving model to /content/drive/MyDrive/Checkpoint-all/BigMartPredict/training_1/cp.ckpt\n",
            "Epoch 26/50\n",
            "214/214 [==============================] - 1s 3ms/step - loss: 1239946.9634 - root_mean_squared_error: 1113.1851 - val_loss: 1187363.2500 - val_root_mean_squared_error: 1089.6620\n",
            "\n",
            "Epoch 00026: saving model to /content/drive/MyDrive/Checkpoint-all/BigMartPredict/training_1/cp.ckpt\n",
            "Epoch 27/50\n",
            "214/214 [==============================] - 1s 3ms/step - loss: 1289637.0035 - root_mean_squared_error: 1135.1648 - val_loss: 1186268.2500 - val_root_mean_squared_error: 1089.1594\n",
            "\n",
            "Epoch 00027: saving model to /content/drive/MyDrive/Checkpoint-all/BigMartPredict/training_1/cp.ckpt\n",
            "Epoch 28/50\n",
            "214/214 [==============================] - 1s 2ms/step - loss: 1226131.5994 - root_mean_squared_error: 1106.9621 - val_loss: 1184333.0000 - val_root_mean_squared_error: 1088.2706\n",
            "\n",
            "Epoch 00028: saving model to /content/drive/MyDrive/Checkpoint-all/BigMartPredict/training_1/cp.ckpt\n",
            "Epoch 29/50\n",
            "214/214 [==============================] - 1s 2ms/step - loss: 1229313.5320 - root_mean_squared_error: 1108.5926 - val_loss: 1208705.8750 - val_root_mean_squared_error: 1099.4116\n",
            "\n",
            "Epoch 00029: saving model to /content/drive/MyDrive/Checkpoint-all/BigMartPredict/training_1/cp.ckpt\n",
            "Epoch 30/50\n",
            "214/214 [==============================] - 1s 2ms/step - loss: 1236946.9814 - root_mean_squared_error: 1111.2752 - val_loss: 1186628.1250 - val_root_mean_squared_error: 1089.3246\n",
            "\n",
            "Epoch 00030: saving model to /content/drive/MyDrive/Checkpoint-all/BigMartPredict/training_1/cp.ckpt\n",
            "Epoch 31/50\n",
            "214/214 [==============================] - 0s 2ms/step - loss: 1169682.1142 - root_mean_squared_error: 1080.6843 - val_loss: 1181659.7500 - val_root_mean_squared_error: 1087.0417\n",
            "\n",
            "Epoch 00031: saving model to /content/drive/MyDrive/Checkpoint-all/BigMartPredict/training_1/cp.ckpt\n",
            "Epoch 32/50\n",
            "214/214 [==============================] - 1s 2ms/step - loss: 1233291.4483 - root_mean_squared_error: 1110.4410 - val_loss: 1186957.3750 - val_root_mean_squared_error: 1089.4757\n",
            "\n",
            "Epoch 00032: saving model to /content/drive/MyDrive/Checkpoint-all/BigMartPredict/training_1/cp.ckpt\n",
            "Epoch 33/50\n",
            "214/214 [==============================] - 1s 2ms/step - loss: 1226781.1895 - root_mean_squared_error: 1107.3661 - val_loss: 1176360.8750 - val_root_mean_squared_error: 1084.6017\n",
            "\n",
            "Epoch 00033: saving model to /content/drive/MyDrive/Checkpoint-all/BigMartPredict/training_1/cp.ckpt\n",
            "Epoch 34/50\n",
            "214/214 [==============================] - 1s 3ms/step - loss: 1184873.9715 - root_mean_squared_error: 1088.1080 - val_loss: 1181412.1250 - val_root_mean_squared_error: 1086.9279\n",
            "\n",
            "Epoch 00034: saving model to /content/drive/MyDrive/Checkpoint-all/BigMartPredict/training_1/cp.ckpt\n",
            "Epoch 35/50\n",
            "214/214 [==============================] - 1s 3ms/step - loss: 1231236.7512 - root_mean_squared_error: 1109.5056 - val_loss: 1181158.2500 - val_root_mean_squared_error: 1086.8110\n",
            "\n",
            "Epoch 00035: saving model to /content/drive/MyDrive/Checkpoint-all/BigMartPredict/training_1/cp.ckpt\n",
            "Epoch 36/50\n",
            "214/214 [==============================] - 1s 3ms/step - loss: 1277545.2494 - root_mean_squared_error: 1129.3675 - val_loss: 1175441.5000 - val_root_mean_squared_error: 1084.1779\n",
            "\n",
            "Epoch 00036: saving model to /content/drive/MyDrive/Checkpoint-all/BigMartPredict/training_1/cp.ckpt\n",
            "Epoch 37/50\n",
            "214/214 [==============================] - 1s 3ms/step - loss: 1216006.2169 - root_mean_squared_error: 1102.5682 - val_loss: 1174768.7500 - val_root_mean_squared_error: 1083.8676\n",
            "\n",
            "Epoch 00037: saving model to /content/drive/MyDrive/Checkpoint-all/BigMartPredict/training_1/cp.ckpt\n",
            "Epoch 38/50\n",
            "214/214 [==============================] - 1s 2ms/step - loss: 1228105.1049 - root_mean_squared_error: 1107.8818 - val_loss: 1184243.8750 - val_root_mean_squared_error: 1088.2297\n",
            "\n",
            "Epoch 00038: saving model to /content/drive/MyDrive/Checkpoint-all/BigMartPredict/training_1/cp.ckpt\n",
            "Epoch 39/50\n",
            "214/214 [==============================] - 1s 3ms/step - loss: 1212478.7093 - root_mean_squared_error: 1100.9101 - val_loss: 1173918.1250 - val_root_mean_squared_error: 1083.4750\n",
            "\n",
            "Epoch 00039: saving model to /content/drive/MyDrive/Checkpoint-all/BigMartPredict/training_1/cp.ckpt\n",
            "Epoch 40/50\n",
            "214/214 [==============================] - 1s 3ms/step - loss: 1244190.1942 - root_mean_squared_error: 1115.0543 - val_loss: 1191165.7500 - val_root_mean_squared_error: 1091.4054\n",
            "\n",
            "Epoch 00040: saving model to /content/drive/MyDrive/Checkpoint-all/BigMartPredict/training_1/cp.ckpt\n",
            "Epoch 41/50\n",
            "214/214 [==============================] - 1s 2ms/step - loss: 1161704.7250 - root_mean_squared_error: 1077.5502 - val_loss: 1170583.0000 - val_root_mean_squared_error: 1081.9348\n",
            "\n",
            "Epoch 00041: saving model to /content/drive/MyDrive/Checkpoint-all/BigMartPredict/training_1/cp.ckpt\n",
            "Epoch 42/50\n",
            "214/214 [==============================] - 1s 3ms/step - loss: 1219270.0395 - root_mean_squared_error: 1104.0422 - val_loss: 1181866.0000 - val_root_mean_squared_error: 1087.1366\n",
            "\n",
            "Epoch 00042: saving model to /content/drive/MyDrive/Checkpoint-all/BigMartPredict/training_1/cp.ckpt\n",
            "Epoch 43/50\n",
            "214/214 [==============================] - 1s 3ms/step - loss: 1253314.1302 - root_mean_squared_error: 1119.3001 - val_loss: 1171434.8750 - val_root_mean_squared_error: 1082.3285\n",
            "\n",
            "Epoch 00043: saving model to /content/drive/MyDrive/Checkpoint-all/BigMartPredict/training_1/cp.ckpt\n",
            "Epoch 44/50\n",
            "214/214 [==============================] - 1s 2ms/step - loss: 1170944.7404 - root_mean_squared_error: 1081.5986 - val_loss: 1171680.8750 - val_root_mean_squared_error: 1082.4421\n",
            "\n",
            "Epoch 00044: saving model to /content/drive/MyDrive/Checkpoint-all/BigMartPredict/training_1/cp.ckpt\n",
            "Epoch 45/50\n",
            "214/214 [==============================] - 1s 3ms/step - loss: 1203542.9174 - root_mean_squared_error: 1096.4263 - val_loss: 1169669.5000 - val_root_mean_squared_error: 1081.5126\n",
            "\n",
            "Epoch 00045: saving model to /content/drive/MyDrive/Checkpoint-all/BigMartPredict/training_1/cp.ckpt\n",
            "Epoch 46/50\n",
            "214/214 [==============================] - 1s 2ms/step - loss: 1218259.2151 - root_mean_squared_error: 1103.4319 - val_loss: 1170200.1250 - val_root_mean_squared_error: 1081.7579\n",
            "\n",
            "Epoch 00046: saving model to /content/drive/MyDrive/Checkpoint-all/BigMartPredict/training_1/cp.ckpt\n",
            "Epoch 47/50\n",
            "214/214 [==============================] - 1s 3ms/step - loss: 1173007.4927 - root_mean_squared_error: 1082.4642 - val_loss: 1166575.6250 - val_root_mean_squared_error: 1080.0813\n",
            "\n",
            "Epoch 00047: saving model to /content/drive/MyDrive/Checkpoint-all/BigMartPredict/training_1/cp.ckpt\n",
            "Epoch 48/50\n",
            "214/214 [==============================] - 1s 2ms/step - loss: 1198435.4576 - root_mean_squared_error: 1094.5477 - val_loss: 1173036.5000 - val_root_mean_squared_error: 1083.0681\n",
            "\n",
            "Epoch 00048: saving model to /content/drive/MyDrive/Checkpoint-all/BigMartPredict/training_1/cp.ckpt\n",
            "Epoch 49/50\n",
            "214/214 [==============================] - 1s 3ms/step - loss: 1205654.1581 - root_mean_squared_error: 1097.9423 - val_loss: 1175997.6250 - val_root_mean_squared_error: 1084.4342\n",
            "\n",
            "Epoch 00049: saving model to /content/drive/MyDrive/Checkpoint-all/BigMartPredict/training_1/cp.ckpt\n",
            "Epoch 50/50\n",
            "214/214 [==============================] - 1s 3ms/step - loss: 1208207.2971 - root_mean_squared_error: 1099.0463 - val_loss: 1164851.7500 - val_root_mean_squared_error: 1079.2830\n",
            "\n",
            "Epoch 00050: saving model to /content/drive/MyDrive/Checkpoint-all/BigMartPredict/training_1/cp.ckpt\n"
          ],
          "name": "stdout"
        }
      ]
    },
    {
      "cell_type": "code",
      "metadata": {
        "colab": {
          "base_uri": "https://localhost:8080/"
        },
        "id": "nJXEtf9PbGrA",
        "outputId": "e2ca0fd2-3d4c-484d-9df0-c0f7b2edab83"
      },
      "source": [
        "!ls {checkpoint_dir}"
      ],
      "execution_count": null,
      "outputs": [
        {
          "output_type": "stream",
          "text": [
            "checkpoint  cp.ckpt.data-00000-of-00001  cp.ckpt.index\n"
          ],
          "name": "stdout"
        }
      ]
    },
    {
      "cell_type": "code",
      "metadata": {
        "id": "Ha8FMOrYdK2V",
        "colab": {
          "base_uri": "https://localhost:8080/",
          "height": 35
        },
        "outputId": "56f6a699-99ef-4a10-8cfe-62d65e3ed2b5"
      },
      "source": [
        "latest = tf.train.latest_checkpoint(checkpoint_dir)\n",
        "latest"
      ],
      "execution_count": null,
      "outputs": [
        {
          "output_type": "execute_result",
          "data": {
            "application/vnd.google.colaboratory.intrinsic+json": {
              "type": "string"
            },
            "text/plain": [
              "'/content/drive/MyDrive/Checkpoint-all/BigMartPredict/training_1/cp.ckpt'"
            ]
          },
          "metadata": {
            "tags": []
          },
          "execution_count": 30
        }
      ]
    },
    {
      "cell_type": "code",
      "metadata": {
        "id": "tO4VeaiQDwgv"
      },
      "source": [
        "prediction=(model.predict(data_test))"
      ],
      "execution_count": null,
      "outputs": []
    },
    {
      "cell_type": "code",
      "metadata": {
        "id": "L3w8UXQTF6gV"
      },
      "source": [
        "from math import sqrt\n",
        "from sklearn.metrics import mean_squared_error"
      ],
      "execution_count": null,
      "outputs": []
    },
    {
      "cell_type": "code",
      "metadata": {
        "colab": {
          "base_uri": "https://localhost:8080/",
          "height": 437
        },
        "id": "ft5PzsiFGfGZ",
        "outputId": "288c8c34-93f5-4c27-9ac1-a5ca89da20bb"
      },
      "source": [
        "submission['Item_Outlet_Sales']=prediction\n",
        "submission.index=submission['Item_Identifier']\n",
        "submission.drop('Item_Identifier', axis=1)"
      ],
      "execution_count": null,
      "outputs": [
        {
          "output_type": "execute_result",
          "data": {
            "text/html": [
              "<div>\n",
              "<style scoped>\n",
              "    .dataframe tbody tr th:only-of-type {\n",
              "        vertical-align: middle;\n",
              "    }\n",
              "\n",
              "    .dataframe tbody tr th {\n",
              "        vertical-align: top;\n",
              "    }\n",
              "\n",
              "    .dataframe thead th {\n",
              "        text-align: right;\n",
              "    }\n",
              "</style>\n",
              "<table border=\"1\" class=\"dataframe\">\n",
              "  <thead>\n",
              "    <tr style=\"text-align: right;\">\n",
              "      <th></th>\n",
              "      <th>Outlet_Identifier</th>\n",
              "      <th>Item_Outlet_Sales</th>\n",
              "    </tr>\n",
              "    <tr>\n",
              "      <th>Item_Identifier</th>\n",
              "      <th></th>\n",
              "      <th></th>\n",
              "    </tr>\n",
              "  </thead>\n",
              "  <tbody>\n",
              "    <tr>\n",
              "      <th>FDW58</th>\n",
              "      <td>OUT049</td>\n",
              "      <td>2889.207520</td>\n",
              "    </tr>\n",
              "    <tr>\n",
              "      <th>FDW14</th>\n",
              "      <td>OUT017</td>\n",
              "      <td>2062.051758</td>\n",
              "    </tr>\n",
              "    <tr>\n",
              "      <th>NCN55</th>\n",
              "      <td>OUT010</td>\n",
              "      <td>793.468994</td>\n",
              "    </tr>\n",
              "    <tr>\n",
              "      <th>FDQ58</th>\n",
              "      <td>OUT017</td>\n",
              "      <td>3103.788086</td>\n",
              "    </tr>\n",
              "    <tr>\n",
              "      <th>FDY38</th>\n",
              "      <td>OUT027</td>\n",
              "      <td>14712.425781</td>\n",
              "    </tr>\n",
              "    <tr>\n",
              "      <th>...</th>\n",
              "      <td>...</td>\n",
              "      <td>...</td>\n",
              "    </tr>\n",
              "    <tr>\n",
              "      <th>FDB58</th>\n",
              "      <td>OUT046</td>\n",
              "      <td>2997.281738</td>\n",
              "    </tr>\n",
              "    <tr>\n",
              "      <th>FDD47</th>\n",
              "      <td>OUT018</td>\n",
              "      <td>6211.306641</td>\n",
              "    </tr>\n",
              "    <tr>\n",
              "      <th>NCO17</th>\n",
              "      <td>OUT045</td>\n",
              "      <td>2653.941650</td>\n",
              "    </tr>\n",
              "    <tr>\n",
              "      <th>FDJ26</th>\n",
              "      <td>OUT017</td>\n",
              "      <td>4517.014648</td>\n",
              "    </tr>\n",
              "    <tr>\n",
              "      <th>FDU37</th>\n",
              "      <td>OUT045</td>\n",
              "      <td>2084.870117</td>\n",
              "    </tr>\n",
              "  </tbody>\n",
              "</table>\n",
              "<p>5681 rows × 2 columns</p>\n",
              "</div>"
            ],
            "text/plain": [
              "                Outlet_Identifier  Item_Outlet_Sales\n",
              "Item_Identifier                                     \n",
              "FDW58                      OUT049        2889.207520\n",
              "FDW14                      OUT017        2062.051758\n",
              "NCN55                      OUT010         793.468994\n",
              "FDQ58                      OUT017        3103.788086\n",
              "FDY38                      OUT027       14712.425781\n",
              "...                           ...                ...\n",
              "FDB58                      OUT046        2997.281738\n",
              "FDD47                      OUT018        6211.306641\n",
              "NCO17                      OUT045        2653.941650\n",
              "FDJ26                      OUT017        4517.014648\n",
              "FDU37                      OUT045        2084.870117\n",
              "\n",
              "[5681 rows x 2 columns]"
            ]
          },
          "metadata": {
            "tags": []
          },
          "execution_count": 33
        }
      ]
    },
    {
      "cell_type": "code",
      "metadata": {
        "id": "X1EvoQxCGknl"
      },
      "source": [
        "submission.to_csv('submission.csv', index=False)"
      ],
      "execution_count": null,
      "outputs": []
    },
    {
      "cell_type": "code",
      "metadata": {
        "colab": {
          "base_uri": "https://localhost:8080/",
          "height": 295
        },
        "id": "3qA8yq8E0IPG",
        "outputId": "d1277c28-0059-42ee-cc56-32b4dab9cf82"
      },
      "source": [
        "plt.plot(model_history.history['loss'])\n",
        "plt.plot(model_history.history['val_loss'])\n",
        "plt.title('model loss')\n",
        "plt.ylabel('loss')\n",
        "plt.xlabel('epoch')\n",
        "plt.legend(['train', 'validation'], loc='upper left')\n",
        "plt.show()"
      ],
      "execution_count": null,
      "outputs": [
        {
          "output_type": "display_data",
          "data": {
            "image/png": "[encoded data removed]",
            "text/plain": [
              "<Figure size 432x288 with 1 Axes>"
            ]
          },
          "metadata": {
            "tags": [],
            "needs_background": "light"
          }
        }
      ]
    },
    {
      "cell_type": "code",
      "metadata": {
        "id": "BMSftgVa0PH8"
      },
      "source": [
        "plt.plot(model_history.history['root_mean_squared_error'])\n",
        "plt.plot(model_history.history['val_root_mean_squared_error'])\n",
        "plt.title('model RMSE')\n",
        "plt.ylabel('RMSE')\n",
        "plt.xlabel('epoch')\n",
        "plt.legend(['train', 'validation'], loc='upper left')\n",
        "plt.show()"
      ],
      "execution_count": null,
      "outputs": []
    }
  ]
}